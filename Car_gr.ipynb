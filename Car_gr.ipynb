{
 "cells": [
  {
   "cell_type": "code",
   "execution_count": 450,
   "metadata": {},
   "outputs": [],
   "source": [
    "import requests\n",
    "from bs4 import BeautifulSoup\n",
    "import lxml\n",
    "import re\n",
    "import datetime\n",
    "import pandas as pd"
   ]
  },
  {
   "cell_type": "code",
   "execution_count": null,
   "metadata": {},
   "outputs": [],
   "source": []
  },
  {
   "cell_type": "code",
   "execution_count": 27,
   "metadata": {},
   "outputs": [],
   "source": [
    "urllink = \"https://www.car.gr/classifieds/cars/?category=11&condition=used&doors=4-5&engine_size-from=%3E1000&fromfeed=1&fuel_type=1&fuel_type=8&mileage-to=%3C200000&pg=2&price-from=%3E8000&price-to=%3C25000&registration-from=%3E2015&rg=2\"\n",
    "\n",
    "#html_text = requests.get(urllink)\n",
    "#with open(cargr.html):\n",
    "#    html_text = \n",
    "soup = BeautifulSoup(html_text.content, \"html.parser\")\n",
    "\n",
    "# The goal is to load the first link and parse the pages by finding the 'next' button, until it reaches the end."
   ]
  },
  {
   "cell_type": "code",
   "execution_count": 127,
   "metadata": {},
   "outputs": [],
   "source": [
    "# regular expression to pick up kilometers\n",
    "re1 = re.compile(\"(\\d{1,3}\\.\\d{3}|\\d{1,3})\")\n",
    "re2 = re.compile(\"\\d{2}/\\d{4}\")"
   ]
  },
  {
   "cell_type": "code",
   "execution_count": 511,
   "metadata": {},
   "outputs": [],
   "source": [
    "results = soup.find_all(\"div\", class_=\"row p-2 position-relative no-gutters\")"
   ]
  },
  {
   "cell_type": "code",
   "execution_count": 587,
   "metadata": {},
   "outputs": [],
   "source": [
    "def CarGrDataParser_New(urllink):\n",
    "    html_text = requests.get(urllink)\n",
    "    soup = BeautifulSoup(html_text.content, \"html.parser\")\n",
    "    \n",
    "    # regular expression to pick up kilometers\n",
    "    re1 = re.compile(\"(\\d{1,3}\\.\\d{3}|\\d{1,3})\")\n",
    "    # regular expression to pick up date\n",
    "    re2 = re.compile(\"\\d{2}/\\d{4}\")\n",
    "    \n",
    "    Brand = []; Price = []; Date = []; EngVol = []; EngPow = []; Fuel = []; Mileage = []; Gear = []\n",
    "    \n",
    "    # find all the tags that contain car data\n",
    "    results = soup.find_all(\"div\", class_=\"row p-2 position-relative no-gutters\")\n",
    "    \n",
    "    for result in results:\n",
    "        \n",
    "        Brand.append(result.find(\"div\", class_=\"title font-size-xl title\").text.split()[0]) # brand)\n",
    "        \n",
    "        price = result.find(\"span\", class_=\"price-no-decimals\").text # price\n",
    "        price = int(price.replace('.',''))\n",
    "        Price.append(price)\n",
    "                     \n",
    "        date = result.find(\"span\", class_=\"key-feature\", title=\"Χρονολογία\")    # date\n",
    "        if date:\n",
    "            date_num = datetime.datetime.strptime(re2.findall(date.text)[0], '%m/%Y')\n",
    "        else:\n",
    "            date_num = 'n/a'\n",
    "        Date.append(date_num)\n",
    "        \n",
    "        enginecc = result.find(\"span\", class_=\"key-feature\", title=\"Κυβικά\")\n",
    "        if enginecc:\n",
    "            enginecc = enginecc.text\n",
    "            enginecc = re.findall(r'\\b\\d+\\b',enginecc)\n",
    "            engVol = int(enginecc[0])*1000 + int(enginecc[1])\n",
    "            engPow = int(enginecc[2])\n",
    "        else:\n",
    "            engVol = 'n/a'\n",
    "            engPow = 'n/a'\n",
    "        EngVol.append(engVol)\n",
    "        EngPow.append(engPow)\n",
    "        \n",
    "        fuel = result.find(\"span\", class_=\"key-feature\", title=\"Καύσιμο\")\n",
    "        if fuel:\n",
    "            fuel = re.findall('\\w+',fuel.text)\n",
    "        else:\n",
    "            fuel = 'n/a'\n",
    "        Fuel.append(fuel)\n",
    "                     \n",
    "        km = result.find(\"span\", class_=\"key-feature\", title=\"Χιλιόμετρα\")\n",
    "        if km:\n",
    "            km = re1.search(km.text).group(1)\n",
    "            km_num = int(km.replace('.',''))\n",
    "        else:\n",
    "            km_num = 'n/a'\n",
    "        Mileage.append(km_num)\n",
    "                     \n",
    "        gear = result.find(\"span\", class_=\"key-feature\", title=\"Σασμάν\")\n",
    "        if gear:\n",
    "            gear = True\n",
    "        else:\n",
    "            gear = False\n",
    "        Gear.append(gear)\n",
    "                     \n",
    "    return {\"brand\":Brand,\n",
    "            \"price\":Price,\n",
    "            \"kilometers\":Mileage,\n",
    "            \"engine_cc\":EngVol,\n",
    "            \"engine_bhp\":EngPow,\n",
    "            \"date\":Date,\n",
    "            \"fuel\":Fuel,\n",
    "           \"gear\":Gear}"
   ]
  },
  {
   "cell_type": "code",
   "execution_count": 588,
   "metadata": {},
   "outputs": [],
   "source": [
    "cData = CarGrDataParser_New(urllink)"
   ]
  },
  {
   "cell_type": "code",
   "execution_count": 589,
   "metadata": {},
   "outputs": [
    {
     "data": {
      "text/plain": [
       "{'brand': ['Volkswagen',\n",
       "  'Suzuki',\n",
       "  'Audi',\n",
       "  'Opel',\n",
       "  'Nissan',\n",
       "  'Seat',\n",
       "  'Nissan',\n",
       "  'Fiat',\n",
       "  'Volkswagen',\n",
       "  'Citroen',\n",
       "  'Seat',\n",
       "  'Opel',\n",
       "  'Toyota',\n",
       "  'Fiat',\n",
       "  'Nissan',\n",
       "  'Volkswagen',\n",
       "  'Volkswagen',\n",
       "  'Volkswagen',\n",
       "  'Toyota',\n",
       "  'Mini',\n",
       "  'Ford',\n",
       "  'Opel',\n",
       "  'Peugeot',\n",
       "  'Suzuki'],\n",
       " 'price': [16700,\n",
       "  10899,\n",
       "  24400,\n",
       "  16000,\n",
       "  8800,\n",
       "  8999,\n",
       "  8899,\n",
       "  10900,\n",
       "  9000,\n",
       "  8900,\n",
       "  22000,\n",
       "  8600,\n",
       "  8200,\n",
       "  8500,\n",
       "  8200,\n",
       "  8000,\n",
       "  12300,\n",
       "  16300,\n",
       "  13500,\n",
       "  13500,\n",
       "  13000,\n",
       "  9200,\n",
       "  11800,\n",
       "  12100],\n",
       " 'kilometers': [29457,\n",
       "  11000,\n",
       "  17900,\n",
       "  40000,\n",
       "  32900,\n",
       "  64090,\n",
       "  62395,\n",
       "  19110,\n",
       "  57963,\n",
       "  64000,\n",
       "  400,\n",
       "  41000,\n",
       "  69000,\n",
       "  20243,\n",
       "  32000,\n",
       "  80837,\n",
       "  89916,\n",
       "  110540,\n",
       "  78018,\n",
       "  75574,\n",
       "  6300,\n",
       "  62000,\n",
       "  11005,\n",
       "  20500],\n",
       " 'engine_cc': [1000,\n",
       "  1200,\n",
       "  1000,\n",
       "  1400,\n",
       "  1200,\n",
       "  1000,\n",
       "  1200,\n",
       "  1368,\n",
       "  1000,\n",
       "  1199,\n",
       "  1500,\n",
       "  1200,\n",
       "  1000,\n",
       "  1242,\n",
       "  1200,\n",
       "  1000,\n",
       "  1400,\n",
       "  1400,\n",
       "  1500,\n",
       "  1500,\n",
       "  1100,\n",
       "  1400,\n",
       "  1200,\n",
       "  1250],\n",
       " 'engine_bhp': [115,\n",
       "  90,\n",
       "  116,\n",
       "  150,\n",
       "  82,\n",
       "  75,\n",
       "  80,\n",
       "  95,\n",
       "  75,\n",
       "  82,\n",
       "  150,\n",
       "  70,\n",
       "  69,\n",
       "  75,\n",
       "  80,\n",
       "  60,\n",
       "  122,\n",
       "  150,\n",
       "  100,\n",
       "  136,\n",
       "  82,\n",
       "  95,\n",
       "  75,\n",
       "  90],\n",
       " 'date': [datetime.datetime(2018, 1, 1, 0, 0),\n",
       "  datetime.datetime(2019, 6, 1, 0, 0),\n",
       "  datetime.datetime(2019, 3, 1, 0, 0),\n",
       "  datetime.datetime(2018, 11, 1, 0, 0),\n",
       "  datetime.datetime(2016, 7, 1, 0, 0),\n",
       "  datetime.datetime(2016, 7, 1, 0, 0),\n",
       "  datetime.datetime(2017, 6, 1, 0, 0),\n",
       "  datetime.datetime(2019, 6, 1, 0, 0),\n",
       "  datetime.datetime(2017, 3, 1, 0, 0),\n",
       "  datetime.datetime(2017, 5, 1, 0, 0),\n",
       "  datetime.datetime(2021, 1, 1, 0, 0),\n",
       "  datetime.datetime(2016, 9, 1, 0, 0),\n",
       "  datetime.datetime(2017, 5, 1, 0, 0),\n",
       "  datetime.datetime(2019, 4, 1, 0, 0),\n",
       "  datetime.datetime(2016, 4, 1, 0, 0),\n",
       "  datetime.datetime(2015, 9, 1, 0, 0),\n",
       "  datetime.datetime(2015, 7, 1, 0, 0),\n",
       "  datetime.datetime(2015, 12, 1, 0, 0),\n",
       "  datetime.datetime(2017, 7, 1, 0, 0),\n",
       "  datetime.datetime(2015, 6, 1, 0, 0),\n",
       "  datetime.datetime(2020, 1, 1, 0, 0),\n",
       "  datetime.datetime(2016, 1, 1, 0, 0),\n",
       "  datetime.datetime(2020, 10, 1, 0, 0),\n",
       "  datetime.datetime(2018, 6, 1, 0, 0)],\n",
       " 'fuel': [['Βενζίνη'],\n",
       "  ['Βενζίνη'],\n",
       "  ['Βενζίνη'],\n",
       "  ['Βενζίνη'],\n",
       "  ['Βενζίνη'],\n",
       "  ['Βενζίνη'],\n",
       "  ['Βενζίνη'],\n",
       "  ['Βενζίνη'],\n",
       "  ['Βενζίνη'],\n",
       "  ['Βενζίνη'],\n",
       "  ['Βενζίνη'],\n",
       "  ['Βενζίνη'],\n",
       "  ['Βενζίνη'],\n",
       "  ['Βενζίνη'],\n",
       "  ['Βενζίνη'],\n",
       "  ['Βενζίνη'],\n",
       "  ['Βενζίνη'],\n",
       "  ['Βενζίνη'],\n",
       "  ['Υβριδικό', 'βενζίνη'],\n",
       "  ['Βενζίνη'],\n",
       "  ['Βενζίνη'],\n",
       "  ['Βενζίνη'],\n",
       "  ['Βενζίνη'],\n",
       "  ['Βενζίνη']],\n",
       " 'gear': [False,\n",
       "  False,\n",
       "  True,\n",
       "  False,\n",
       "  False,\n",
       "  False,\n",
       "  False,\n",
       "  False,\n",
       "  False,\n",
       "  False,\n",
       "  False,\n",
       "  False,\n",
       "  False,\n",
       "  False,\n",
       "  False,\n",
       "  True,\n",
       "  True,\n",
       "  True,\n",
       "  True,\n",
       "  False,\n",
       "  False,\n",
       "  False,\n",
       "  False,\n",
       "  True]}"
      ]
     },
     "execution_count": 589,
     "metadata": {},
     "output_type": "execute_result"
    }
   ],
   "source": [
    "cData"
   ]
  },
  {
   "cell_type": "code",
   "execution_count": 295,
   "metadata": {},
   "outputs": [],
   "source": [
    "re3 = re.compile(\"[^\\n^\\s]\\w+\")\n",
    "fueltype = [re3.findall(fff) for fff in fuel]"
   ]
  },
  {
   "cell_type": "code",
   "execution_count": 345,
   "metadata": {
    "scrolled": true
   },
   "outputs": [],
   "source": [
    "#results = soup.find_all('a', href=True) #[10]['href']\n",
    "\n",
    "for result in results:\n",
    "    if result.text == '»':\n",
    "        NextUrl = result['href']"
   ]
  },
  {
   "cell_type": "code",
   "execution_count": 595,
   "metadata": {},
   "outputs": [],
   "source": [
    "CarData = {\"brand\":[],\n",
    "          \"price\":[],\n",
    "          \"kilometers\":[],\n",
    "          \"engine_cc\":[],\n",
    "          \"engine_bhp\":[],\n",
    "          \"date\":[],\n",
    "          \"fuel\":[],\n",
    "          \"gear\":[]}\n",
    "\n",
    "for ppp in range(0,21):\n",
    "    PageNum = ppp + 1;\n",
    "    urllink = \"https://www.car.gr/classifieds/cars/?category=11&condition=used&doors=4-5&engine_size-from=%3E1000&fromfeed=1&fuel_type=1&fuel_type=8&mileage-to=%3C200000&pg=\"+ \"%d\"%PageNum +\"&price-from=%3E8000&price-to=%3C25000&registration-from=%3E2015&rg=2\"\n",
    "    #html_text = requests.get(urllink)\n",
    "    \n",
    "    CarDataTemp = CarGrDataParser_New(urllink)\n",
    "    \n",
    "    CarData['brand'].extend(CarDataTemp['brand'])\n",
    "    CarData['price'].extend(CarDataTemp['price'])\n",
    "    CarData['kilometers'].extend(CarDataTemp['kilometers'])\n",
    "    CarData['engine_cc'].extend(CarDataTemp['engine_cc'])\n",
    "    CarData['engine_bhp'].extend(CarDataTemp['engine_bhp'])\n",
    "    CarData['date'].extend(CarDataTemp['date'])\n",
    "    CarData['fuel'].extend(CarDataTemp['fuel'])\n",
    "    CarData['gear'].extend(CarDataTemp['gear'])\n",
    "    #results = soup.find_all('a', href=True)\n",
    "    #for result in results:\n",
    "        #print(result.text)\n",
    "    #    FindDgt = re.findall('\\d{1,2}',result.text)\n",
    "    #    if FindDgt:\n",
    "    #        if FindDgt[0] == '%d'%NextPageNum :\n",
    "    #            NextUrl = \"https://www.car.gr\" + result['href']\n",
    "    #print(NextUrl)\n",
    "            "
   ]
  },
  {
   "cell_type": "code",
   "execution_count": 597,
   "metadata": {},
   "outputs": [],
   "source": [
    "#[len(CarData['brand']),len(CarData['price']),len(CarData['kilometers']),len(CarData['date']),len(CarData['gear'])]\n",
    "\n",
    "df = pd.DataFrame(CarData)"
   ]
  },
  {
   "cell_type": "code",
   "execution_count": 598,
   "metadata": {},
   "outputs": [],
   "source": [
    "import numpy as np\n",
    "import statsmodels.api as sm\n",
    "from sklearn.linear_model import LinearRegression\n",
    "import seaborn as sns\n",
    "sns.set()"
   ]
  },
  {
   "cell_type": "code",
   "execution_count": 608,
   "metadata": {},
   "outputs": [
    {
     "data": {
      "text/plain": [
       "<AxesSubplot:xlabel='date', ylabel='Count'>"
      ]
     },
     "execution_count": 608,
     "metadata": {},
     "output_type": "execute_result"
    },
    {
     "data": {
      "image/png": "[encoded data removed]",
      "text/plain": [
       "<Figure size 432x288 with 1 Axes>"
      ]
     },
     "metadata": {},
     "output_type": "display_data"
    }
   ],
   "source": [
    "sns.histplot(df['date'])"
   ]
  },
  {
   "cell_type": "code",
   "execution_count": 657,
   "metadata": {},
   "outputs": [
    {
     "data": {
      "text/plain": [
       "<AxesSubplot:xlabel='kilometers', ylabel='Count'>"
      ]
     },
     "execution_count": 657,
     "metadata": {},
     "output_type": "execute_result"
    },
    {
     "data": {
      "image/png": "[encoded data removed]",
      "text/plain": [
       "<Figure size 432x288 with 1 Axes>"
      ]
     },
     "metadata": {},
     "output_type": "display_data"
    }
   ],
   "source": [
    "sns.histplot(df['kilometers'])"
   ]
  },
  {
   "cell_type": "code",
   "execution_count": 673,
   "metadata": {},
   "outputs": [],
   "source": [
    "df['kilometers'] = df['kilometers'].replace(['n/a'],500) # this is an educated repacement, as cars with n/a in kilometers appear to be either new or display"
   ]
  },
  {
   "cell_type": "code",
   "execution_count": 686,
   "metadata": {},
   "outputs": [
    {
     "data": {
      "text/plain": [
       "736389"
      ]
     },
     "execution_count": 686,
     "metadata": {},
     "output_type": "execute_result"
    }
   ],
   "source": [
    "df['date'][0].toordinal()"
   ]
  },
  {
   "cell_type": "code",
   "execution_count": 769,
   "metadata": {},
   "outputs": [
    {
     "data": {
      "text/plain": [
       "Text(0.5, 1.0, 'Mileage and Price')"
      ]
     },
     "execution_count": 769,
     "metadata": {},
     "output_type": "execute_result"
    },
    {
     "data": {
      "image/png": "[encoded data removed]",
      "text/plain": [
       "<Figure size 1080x216 with 3 Axes>"
      ]
     },
     "metadata": {},
     "output_type": "display_data"
    }
   ],
   "source": [
    "f, (ax1, ax2, ax3) = pt.subplots(1, 3, sharey=True, figsize =(15,3))\n",
    "ax1.scatter(df['date'],df['price'])\n",
    "ax1.set_title('Price and Year')\n",
    "ax2.scatter(df['engine_cc'],df['price'])\n",
    "ax2.set_title('Engine and Price')\n",
    "ax3.scatter(df['kilometers'],df['price'])\n",
    "ax3.set_title('Mileage and Price')"
   ]
  },
  {
   "cell_type": "code",
   "execution_count": 770,
   "metadata": {},
   "outputs": [
    {
     "data": {
      "text/plain": [
       "<matplotlib.collections.PathCollection at 0x1fac5425460>"
      ]
     },
     "execution_count": 770,
     "metadata": {},
     "output_type": "execute_result"
    },
    {
     "data": {
      "image/png": "[encoded data removed]",
      "text/plain": [
       "<Figure size 432x288 with 1 Axes>"
      ]
     },
     "metadata": {},
     "output_type": "display_data"
    }
   ],
   "source": [
    "log_price = np.log(df.price)\n",
    "df.loc[:,('log_price')] = log_price\n",
    "\n",
    "pt.scatter(df['kilometers'],df['log_price'])"
   ]
  },
  {
   "cell_type": "markdown",
   "metadata": {},
   "source": [
    "### Multicollinearity"
   ]
  },
  {
   "cell_type": "code",
   "execution_count": 771,
   "metadata": {},
   "outputs": [
    {
     "data": {
      "text/plain": [
       "array(['brand', 'price', 'kilometers', 'engine_cc', 'engine_bhp', 'date',\n",
       "       'fuel', 'gear', 'year', 'oil', 'gas', 'hybrid', 'log_price'],\n",
       "      dtype=object)"
      ]
     },
     "execution_count": 771,
     "metadata": {},
     "output_type": "execute_result"
    }
   ],
   "source": [
    "df.columns.values"
   ]
  },
  {
   "cell_type": "code",
   "execution_count": 793,
   "metadata": {},
   "outputs": [],
   "source": [
    "from statsmodels.stats.outliers_influence import variance_inflation_factor\n",
    "variables = df[['kilometers','engine_cc']]\n",
    "vif = pd.DataFrame()\n",
    "vif[\"VIF\"] = [variance_inflation_factor(variables.values, i) for i in range(variables.shape[1])]\n",
    "vif[\"features\"] = variables.columns"
   ]
  },
  {
   "cell_type": "code",
   "execution_count": 885,
   "metadata": {},
   "outputs": [
    {
     "data": {
      "text/html": [
       "<div>\n",
       "<style scoped>\n",
       "    .dataframe tbody tr th:only-of-type {\n",
       "        vertical-align: middle;\n",
       "    }\n",
       "\n",
       "    .dataframe tbody tr th {\n",
       "        vertical-align: top;\n",
       "    }\n",
       "\n",
       "    .dataframe thead th {\n",
       "        text-align: right;\n",
       "    }\n",
       "</style>\n",
       "<table border=\"1\" class=\"dataframe\">\n",
       "  <thead>\n",
       "    <tr style=\"text-align: right;\">\n",
       "      <th></th>\n",
       "      <th>VIF</th>\n",
       "      <th>features</th>\n",
       "    </tr>\n",
       "  </thead>\n",
       "  <tbody>\n",
       "    <tr>\n",
       "      <th>0</th>\n",
       "      <td>3.199621</td>\n",
       "      <td>kilometers</td>\n",
       "    </tr>\n",
       "    <tr>\n",
       "      <th>1</th>\n",
       "      <td>3.199621</td>\n",
       "      <td>engine_cc</td>\n",
       "    </tr>\n",
       "  </tbody>\n",
       "</table>\n",
       "</div>"
      ],
      "text/plain": [
       "        VIF    features\n",
       "0  3.199621  kilometers\n",
       "1  3.199621   engine_cc"
      ]
     },
     "execution_count": 885,
     "metadata": {},
     "output_type": "execute_result"
    }
   ],
   "source": [
    "vif"
   ]
  },
  {
   "cell_type": "code",
   "execution_count": 743,
   "metadata": {},
   "outputs": [],
   "source": [
    "years = [date1.year for date1 in df['date']]\n",
    "#variables.loc[:,('year')] = years\n",
    "df.loc[:,'year'] = years\n",
    "#varialbes.loc['year'] = [date1.year for date1 in df['date']]"
   ]
  },
  {
   "cell_type": "code",
   "execution_count": 761,
   "metadata": {},
   "outputs": [],
   "source": [
    "FuelType = []\n",
    "for fuelType in df.fuel:\n",
    "    oil = False\n",
    "    gas = False\n",
    "    hyb = False\n",
    "    for ggg in fuelType:\n",
    "        oil = oil or ggg.lower()=='βενζίνη'\n",
    "        gas = gas or ggg.lower()=='αέριο'\n",
    "        hyb = hyb or ggg.lower()=='υβριδικό'\n",
    "    FuelType.append([oil,gas,hyb])"
   ]
  },
  {
   "cell_type": "code",
   "execution_count": 764,
   "metadata": {},
   "outputs": [],
   "source": [
    "df.loc[:,['oil','gas','hybrid']] = FuelType"
   ]
  },
  {
   "cell_type": "code",
   "execution_count": 889,
   "metadata": {},
   "outputs": [],
   "source": [
    "data_fit_regression = df.drop(['date','fuel','log_price','oil'], axis=1)"
   ]
  },
  {
   "cell_type": "code",
   "execution_count": 890,
   "metadata": {},
   "outputs": [],
   "source": [
    "data_fit_regression = data_fit_regression.replace({True:1, False:0})"
   ]
  },
  {
   "cell_type": "code",
   "execution_count": 891,
   "metadata": {},
   "outputs": [],
   "source": [
    "data_dummies = pd.get_dummies(data_fit_regression, drop_first=True)"
   ]
  },
  {
   "cell_type": "code",
   "execution_count": 892,
   "metadata": {},
   "outputs": [
    {
     "data": {
      "text/plain": [
       "array(['price', 'kilometers', 'engine_cc', 'engine_bhp', 'gear', 'year',\n",
       "       'gas', 'hybrid', 'brand_Audi', 'brand_Bmw', 'brand_Citroen',\n",
       "       'brand_Fiat', 'brand_Ford', 'brand_Honda', 'brand_Hyundai',\n",
       "       'brand_Kia', 'brand_Mazda', 'brand_Mercedes-Benz', 'brand_Mini',\n",
       "       'brand_Mitsubishi', 'brand_Nissan', 'brand_Opel', 'brand_Peugeot',\n",
       "       'brand_Renault', 'brand_Seat', 'brand_Skoda', 'brand_Smart',\n",
       "       'brand_Suzuki', 'brand_Toyota', 'brand_Volkswagen', 'brand_Volvo'],\n",
       "      dtype=object)"
      ]
     },
     "execution_count": 892,
     "metadata": {},
     "output_type": "execute_result"
    }
   ],
   "source": [
    "data_dummies.columns.values"
   ]
  },
  {
   "cell_type": "code",
   "execution_count": 893,
   "metadata": {},
   "outputs": [],
   "source": [
    "data_preprocessed = data_dummies.drop(['engine_bhp'], axis=1)"
   ]
  },
  {
   "cell_type": "code",
   "execution_count": 895,
   "metadata": {},
   "outputs": [],
   "source": [
    "targets = data_preprocessed['price']\n",
    "inputs  = data_preprocessed.drop('price', axis=1)"
   ]
  },
  {
   "cell_type": "code",
   "execution_count": 896,
   "metadata": {},
   "outputs": [
    {
     "data": {
      "text/plain": [
       "StandardScaler()"
      ]
     },
     "execution_count": 896,
     "metadata": {},
     "output_type": "execute_result"
    }
   ],
   "source": [
    "from sklearn.preprocessing import StandardScaler\n",
    "\n",
    "scaler = StandardScaler()\n",
    "scaler.fit(inputs)"
   ]
  },
  {
   "cell_type": "code",
   "execution_count": 897,
   "metadata": {},
   "outputs": [],
   "source": [
    "inputs_scaled = scaler.transform(inputs)"
   ]
  },
  {
   "cell_type": "code",
   "execution_count": 898,
   "metadata": {},
   "outputs": [],
   "source": [
    "### Train test split\n",
    "from sklearn.model_selection import train_test_split\n",
    "\n",
    "x_train, x_text, y_train, y_test = train_test_split(inputs_scaled, targets, test_size=0.2, random_state=365)"
   ]
  },
  {
   "cell_type": "code",
   "execution_count": 899,
   "metadata": {},
   "outputs": [
    {
     "data": {
      "text/plain": [
       "LinearRegression()"
      ]
     },
     "execution_count": 899,
     "metadata": {},
     "output_type": "execute_result"
    }
   ],
   "source": [
    "### Create the regression\n",
    "reg = LinearRegression()\n",
    "reg.fit(x_train,y_train)"
   ]
  },
  {
   "cell_type": "code",
   "execution_count": 900,
   "metadata": {},
   "outputs": [],
   "source": [
    "y_hat = reg.predict(x_train)"
   ]
  },
  {
   "cell_type": "code",
   "execution_count": 912,
   "metadata": {},
   "outputs": [
    {
     "data": {
      "image/png": "[encoded data removed]",
      "text/plain": [
       "<Figure size 432x288 with 1 Axes>"
      ]
     },
     "metadata": {},
     "output_type": "display_data"
    }
   ],
   "source": [
    "pt.scatter(y_train, y_hat)\n",
    "pt.xlabel('Targets (y_train)',size=18)\n",
    "pt.ylabel('Predictions (y_hat)',size=18)\n",
    "#pt.xlim(6,13)\n",
    "#pt.ylim(6,13)\n",
    "pt.show()"
   ]
  },
  {
   "cell_type": "code",
   "execution_count": 904,
   "metadata": {},
   "outputs": [
    {
     "name": "stderr",
     "output_type": "stream",
     "text": [
      "C:\\Users\\const\\miniconda3\\lib\\site-packages\\seaborn\\distributions.py:2557: FutureWarning: `distplot` is a deprecated function and will be removed in a future version. Please adapt your code to use either `displot` (a figure-level function with similar flexibility) or `histplot` (an axes-level function for histograms).\n",
      "  warnings.warn(msg, FutureWarning)\n"
     ]
    },
    {
     "data": {
      "text/plain": [
       "Text(0.5, 1.0, 'Residuals PDF')"
      ]
     },
     "execution_count": 904,
     "metadata": {},
     "output_type": "execute_result"
    },
    {
     "data": {
      "image/png": "[encoded data removed]",
      "text/plain": [
       "<Figure size 432x288 with 1 Axes>"
      ]
     },
     "metadata": {},
     "output_type": "display_data"
    }
   ],
   "source": [
    "sns.distplot(y_train - y_hat)\n",
    "pt.title(\"Residuals PDF\", size=18)"
   ]
  },
  {
   "cell_type": "code",
   "execution_count": 913,
   "metadata": {},
   "outputs": [
    {
     "data": {
      "text/plain": [
       "0.7525744228163849"
      ]
     },
     "execution_count": 913,
     "metadata": {},
     "output_type": "execute_result"
    }
   ],
   "source": [
    "reg.score(x_train,y_train)"
   ]
  },
  {
   "cell_type": "code",
   "execution_count": 914,
   "metadata": {},
   "outputs": [
    {
     "data": {
      "text/plain": [
       "11506.205923654585"
      ]
     },
     "execution_count": 914,
     "metadata": {},
     "output_type": "execute_result"
    }
   ],
   "source": [
    "### weights and bias\n",
    "reg.intercept_"
   ]
  },
  {
   "cell_type": "code",
   "execution_count": 907,
   "metadata": {},
   "outputs": [
    {
     "data": {
      "text/plain": [
       "array([ -151.67569444,  1207.29483096,   426.38631508,  1226.7410256 ,\n",
       "          40.48548077,   116.89917183,   833.77543532,   233.01831273,\n",
       "        -573.12553009, -1329.1185665 ,  -294.9139646 ,   133.90647132,\n",
       "        -881.62274925,  -622.17215913,  -168.8436784 ,   783.7096222 ,\n",
       "         366.96273281,  -309.94931525,  -869.49181717,  -995.93248051,\n",
       "        -527.26188489,  -168.34110736,   -37.63243765,    89.96970986,\n",
       "        -154.20203105,  -751.25233472,  -818.06719701,   492.7828582 ,\n",
       "          96.02480076])"
      ]
     },
     "execution_count": 907,
     "metadata": {},
     "output_type": "execute_result"
    }
   ],
   "source": [
    "reg.coef_"
   ]
  },
  {
   "cell_type": "code",
   "execution_count": 908,
   "metadata": {},
   "outputs": [
    {
     "data": {
      "text/html": [
       "<div>\n",
       "<style scoped>\n",
       "    .dataframe tbody tr th:only-of-type {\n",
       "        vertical-align: middle;\n",
       "    }\n",
       "\n",
       "    .dataframe tbody tr th {\n",
       "        vertical-align: top;\n",
       "    }\n",
       "\n",
       "    .dataframe thead th {\n",
       "        text-align: right;\n",
       "    }\n",
       "</style>\n",
       "<table border=\"1\" class=\"dataframe\">\n",
       "  <thead>\n",
       "    <tr style=\"text-align: right;\">\n",
       "      <th></th>\n",
       "      <th>Features</th>\n",
       "      <th>Weights</th>\n",
       "    </tr>\n",
       "  </thead>\n",
       "  <tbody>\n",
       "    <tr>\n",
       "      <th>0</th>\n",
       "      <td>kilometers</td>\n",
       "      <td>-151.675694</td>\n",
       "    </tr>\n",
       "    <tr>\n",
       "      <th>1</th>\n",
       "      <td>engine_cc</td>\n",
       "      <td>1207.294831</td>\n",
       "    </tr>\n",
       "    <tr>\n",
       "      <th>2</th>\n",
       "      <td>gear</td>\n",
       "      <td>426.386315</td>\n",
       "    </tr>\n",
       "    <tr>\n",
       "      <th>3</th>\n",
       "      <td>year</td>\n",
       "      <td>1226.741026</td>\n",
       "    </tr>\n",
       "    <tr>\n",
       "      <th>4</th>\n",
       "      <td>gas</td>\n",
       "      <td>40.485481</td>\n",
       "    </tr>\n",
       "    <tr>\n",
       "      <th>5</th>\n",
       "      <td>hybrid</td>\n",
       "      <td>116.899172</td>\n",
       "    </tr>\n",
       "    <tr>\n",
       "      <th>6</th>\n",
       "      <td>brand_Audi</td>\n",
       "      <td>833.775435</td>\n",
       "    </tr>\n",
       "    <tr>\n",
       "      <th>7</th>\n",
       "      <td>brand_Bmw</td>\n",
       "      <td>233.018313</td>\n",
       "    </tr>\n",
       "    <tr>\n",
       "      <th>8</th>\n",
       "      <td>brand_Citroen</td>\n",
       "      <td>-573.125530</td>\n",
       "    </tr>\n",
       "    <tr>\n",
       "      <th>9</th>\n",
       "      <td>brand_Fiat</td>\n",
       "      <td>-1329.118567</td>\n",
       "    </tr>\n",
       "    <tr>\n",
       "      <th>10</th>\n",
       "      <td>brand_Ford</td>\n",
       "      <td>-294.913965</td>\n",
       "    </tr>\n",
       "    <tr>\n",
       "      <th>11</th>\n",
       "      <td>brand_Honda</td>\n",
       "      <td>133.906471</td>\n",
       "    </tr>\n",
       "    <tr>\n",
       "      <th>12</th>\n",
       "      <td>brand_Hyundai</td>\n",
       "      <td>-881.622749</td>\n",
       "    </tr>\n",
       "    <tr>\n",
       "      <th>13</th>\n",
       "      <td>brand_Kia</td>\n",
       "      <td>-622.172159</td>\n",
       "    </tr>\n",
       "    <tr>\n",
       "      <th>14</th>\n",
       "      <td>brand_Mazda</td>\n",
       "      <td>-168.843678</td>\n",
       "    </tr>\n",
       "    <tr>\n",
       "      <th>15</th>\n",
       "      <td>brand_Mercedes-Benz</td>\n",
       "      <td>783.709622</td>\n",
       "    </tr>\n",
       "    <tr>\n",
       "      <th>16</th>\n",
       "      <td>brand_Mini</td>\n",
       "      <td>366.962733</td>\n",
       "    </tr>\n",
       "    <tr>\n",
       "      <th>17</th>\n",
       "      <td>brand_Mitsubishi</td>\n",
       "      <td>-309.949315</td>\n",
       "    </tr>\n",
       "    <tr>\n",
       "      <th>18</th>\n",
       "      <td>brand_Nissan</td>\n",
       "      <td>-869.491817</td>\n",
       "    </tr>\n",
       "    <tr>\n",
       "      <th>19</th>\n",
       "      <td>brand_Opel</td>\n",
       "      <td>-995.932481</td>\n",
       "    </tr>\n",
       "    <tr>\n",
       "      <th>20</th>\n",
       "      <td>brand_Peugeot</td>\n",
       "      <td>-527.261885</td>\n",
       "    </tr>\n",
       "    <tr>\n",
       "      <th>21</th>\n",
       "      <td>brand_Renault</td>\n",
       "      <td>-168.341107</td>\n",
       "    </tr>\n",
       "    <tr>\n",
       "      <th>22</th>\n",
       "      <td>brand_Seat</td>\n",
       "      <td>-37.632438</td>\n",
       "    </tr>\n",
       "    <tr>\n",
       "      <th>23</th>\n",
       "      <td>brand_Skoda</td>\n",
       "      <td>89.969710</td>\n",
       "    </tr>\n",
       "    <tr>\n",
       "      <th>24</th>\n",
       "      <td>brand_Smart</td>\n",
       "      <td>-154.202031</td>\n",
       "    </tr>\n",
       "    <tr>\n",
       "      <th>25</th>\n",
       "      <td>brand_Suzuki</td>\n",
       "      <td>-751.252335</td>\n",
       "    </tr>\n",
       "    <tr>\n",
       "      <th>26</th>\n",
       "      <td>brand_Toyota</td>\n",
       "      <td>-818.067197</td>\n",
       "    </tr>\n",
       "    <tr>\n",
       "      <th>27</th>\n",
       "      <td>brand_Volkswagen</td>\n",
       "      <td>492.782858</td>\n",
       "    </tr>\n",
       "    <tr>\n",
       "      <th>28</th>\n",
       "      <td>brand_Volvo</td>\n",
       "      <td>96.024801</td>\n",
       "    </tr>\n",
       "  </tbody>\n",
       "</table>\n",
       "</div>"
      ],
      "text/plain": [
       "               Features      Weights\n",
       "0            kilometers  -151.675694\n",
       "1             engine_cc  1207.294831\n",
       "2                  gear   426.386315\n",
       "3                  year  1226.741026\n",
       "4                   gas    40.485481\n",
       "5                hybrid   116.899172\n",
       "6            brand_Audi   833.775435\n",
       "7             brand_Bmw   233.018313\n",
       "8         brand_Citroen  -573.125530\n",
       "9            brand_Fiat -1329.118567\n",
       "10           brand_Ford  -294.913965\n",
       "11          brand_Honda   133.906471\n",
       "12        brand_Hyundai  -881.622749\n",
       "13            brand_Kia  -622.172159\n",
       "14          brand_Mazda  -168.843678\n",
       "15  brand_Mercedes-Benz   783.709622\n",
       "16           brand_Mini   366.962733\n",
       "17     brand_Mitsubishi  -309.949315\n",
       "18         brand_Nissan  -869.491817\n",
       "19           brand_Opel  -995.932481\n",
       "20        brand_Peugeot  -527.261885\n",
       "21        brand_Renault  -168.341107\n",
       "22           brand_Seat   -37.632438\n",
       "23          brand_Skoda    89.969710\n",
       "24          brand_Smart  -154.202031\n",
       "25         brand_Suzuki  -751.252335\n",
       "26         brand_Toyota  -818.067197\n",
       "27     brand_Volkswagen   492.782858\n",
       "28          brand_Volvo    96.024801"
      ]
     },
     "execution_count": 908,
     "metadata": {},
     "output_type": "execute_result"
    }
   ],
   "source": [
    "reg_summary = pd.DataFrame(inputs.columns.values, columns=['Features'])\n",
    "reg_summary['Weights'] = reg.coef_\n",
    "reg_summary"
   ]
  },
  {
   "cell_type": "code",
   "execution_count": 881,
   "metadata": {},
   "outputs": [
    {
     "name": "stdout",
     "output_type": "stream",
     "text": [
      "['Alfa', 'Audi', 'Bmw', 'Citroen', 'Fiat', 'Ford', 'Honda', 'Hyundai', 'Kia', 'Mazda', 'Mercedes-Benz', 'Mini', 'Mitsubishi', 'Nissan', 'Opel', 'Peugeot', 'Renault', 'Seat', 'Skoda', 'Smart', 'Suzuki', 'Toyota', 'Volkswagen', 'Volvo']\n"
     ]
    }
   ],
   "source": [
    "ls1 = df['brand'].unique().tolist()\n",
    "ls1.sort()\n",
    "print(ls1)"
   ]
  },
  {
   "cell_type": "code",
   "execution_count": 930,
   "metadata": {},
   "outputs": [
    {
     "data": {
      "text/plain": [
       "brand         ToyotaVolkswagenNissanVolkswagenToyotaToyotaOp...\n",
       "price                                                   1505085\n",
       "kilometers                                              6277281\n",
       "engine_cc                                                146915\n",
       "engine_bhp                                                11883\n",
       "fuel          [Υβριδικό, βενζίνη, Φυσικό, αέριο, cng, βενζίν...\n",
       "gear                                                        109\n",
       "year                                                     219861\n",
       "oil                                                         109\n",
       "gas                                                           2\n",
       "hybrid                                                       19\n",
       "log_price                                            1034.59356\n",
       "dtype: object"
      ]
     },
     "execution_count": 930,
     "metadata": {},
     "output_type": "execute_result"
    }
   ],
   "source": [
    "df.loc[df['gear']==True].sum()"
   ]
  }
 ],
 "metadata": {
  "kernelspec": {
   "display_name": "Python 3",
   "language": "python",
   "name": "python3"
  },
  "language_info": {
   "codemirror_mode": {
    "name": "ipython",
    "version": 3
   },
   "file_extension": ".py",
   "mimetype": "text/x-python",
   "name": "python",
   "nbconvert_exporter": "python",
   "pygments_lexer": "ipython3",
   "version": "3.8.5"
  }
 },
 "nbformat": 4,
 "nbformat_minor": 4
}
